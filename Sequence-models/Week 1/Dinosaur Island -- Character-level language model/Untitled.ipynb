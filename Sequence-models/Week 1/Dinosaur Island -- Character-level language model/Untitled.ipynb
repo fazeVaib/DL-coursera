{
 "cells": [
  {
   "cell_type": "code",
   "execution_count": 20,
   "metadata": {},
   "outputs": [],
   "source": [
    "a = [3,4,5,6,7,4,-1,-2]"
   ]
  },
  {
   "cell_type": "code",
   "execution_count": 21,
   "metadata": {},
   "outputs": [
    {
     "data": {
      "text/plain": [
       "(7, -2)"
      ]
     },
     "execution_count": 21,
     "metadata": {},
     "output_type": "execute_result"
    }
   ],
   "source": [
    "maximum = max(a)\n",
    "minimum = min(a)\n",
    "maximum, minimum"
   ]
  },
  {
   "cell_type": "code",
   "execution_count": 22,
   "metadata": {},
   "outputs": [
    {
     "data": {
      "text/plain": [
       "9"
      ]
     },
     "execution_count": 22,
     "metadata": {},
     "output_type": "execute_result"
    }
   ],
   "source": [
    "if maximum > 0 and minimum < 0:\n",
    "    total = maximum + abs(minimum)\n",
    "elif maximum < 0:\n",
    "    total = minimum\n",
    "else:\n",
    "    total = maximum\n",
    "    \n",
    "total"
   ]
  },
  {
   "cell_type": "code",
   "execution_count": 23,
   "metadata": {},
   "outputs": [
    {
     "name": "stdout",
     "output_type": "stream",
     "text": [
      "--------*----*--\n",
      "------*-*----*-*\n",
      "----*-*-*----*-*\n",
      "--*-*-*-*-*--*-*\n",
      "*-*-*-*-*-*--*-*\n",
      "*-*-*-*-*-*--*-*\n",
      "*-*-*-*-*-*--*-*\n",
      "************-*-*\n",
      "**************-*\n"
     ]
    }
   ],
   "source": [
    "mymin = -1\n",
    "\n",
    "for k in range(total):\n",
    "    c = 0\n",
    "    d = 0 \n",
    "    for i in range(len(a)):\n",
    "        if a[i] == maximum:\n",
    "            a[i] = a[i] - 1\n",
    "            c = 1\n",
    "            print('*', end='')\n",
    "        else:\n",
    "            print('-', end='')\n",
    "        if a[i] >= mymin and a[i] <0:\n",
    "            d = 1\n",
    "            print('*', end='')\n",
    "        else:\n",
    "            print('-', end='')\n",
    "    if c==1:\n",
    "        maximum = maximum - 1\n",
    "    if d==1:\n",
    "        mymin = mymin - 1\n",
    "    print()"
   ]
  },
  {
   "cell_type": "code",
   "execution_count": 30,
   "metadata": {},
   "outputs": [
    {
     "data": {
      "text/plain": [
       "[1, 2, 3, 2, 2, 4, 5]"
      ]
     },
     "execution_count": 30,
     "metadata": {},
     "output_type": "execute_result"
    }
   ],
   "source": [
    "b = [1,2,3,2,2,4,5]\n",
    "\n",
    "c = [3 if ele==2 else ele for ele in b]\n",
    "\n",
    "c"
   ]
  }
 ],
 "metadata": {
  "kernelspec": {
   "display_name": "Python 3",
   "language": "python",
   "name": "python3"
  },
  "language_info": {
   "codemirror_mode": {
    "name": "ipython",
    "version": 3
   },
   "file_extension": ".py",
   "mimetype": "text/x-python",
   "name": "python",
   "nbconvert_exporter": "python",
   "pygments_lexer": "ipython3",
   "version": "3.6.6"
  }
 },
 "nbformat": 4,
 "nbformat_minor": 2
}
